{
 "cells": [
  {
   "cell_type": "code",
   "execution_count": 21,
   "metadata": {},
   "outputs": [],
   "source": [
    "from openai import OpenAI\n",
    "from pathlib import Path\n",
    "import os\n",
    "from playsound import playsound\n",
    "import json"
   ]
  },
  {
   "cell_type": "code",
   "execution_count": 2,
   "metadata": {},
   "outputs": [],
   "source": [
    "api_key = \"\""
   ]
  },
  {
   "cell_type": "markdown",
   "metadata": {},
   "source": [
    "# Step 1\n",
    "\n",
    "OpenAI client instance.\n",
    "\n",
    "Define characteristics of each voice.\n",
    "\n",
    "estimate_cost method used to estimate cost of CHARACTER level sequence."
   ]
  },
  {
   "cell_type": "code",
   "execution_count": 3,
   "metadata": {},
   "outputs": [],
   "source": [
    "client = OpenAI(api_key=api_key)\n",
    "\n",
    "VOICES = {\n",
    "    \"alloy\": \"androgynous, soft\",\n",
    "    \"echo\": \"male, soft\",\n",
    "    \"fable\": \"male, soft, british accent\",\n",
    "    \"onyx\": \"male, grizzly\",\n",
    "    \"nova\": \"female, soft, adult\",\n",
    "    \"shimmer\": \"female, soft, middle aged\",\n",
    "}\n",
    "\n",
    "def estimate_cost(string, per_char):\n",
    "    one_K_units = len(string) / 100\n",
    "    return one_K_units * per_char"
   ]
  },
  {
   "cell_type": "markdown",
   "metadata": {},
   "source": [
    "# Step 2\n",
    "\n",
    "Load snippet of a book, chosen Shadow Slave is a webnovel downloaded manually."
   ]
  },
  {
   "cell_type": "code",
   "execution_count": 4,
   "metadata": {},
   "outputs": [],
   "source": [
    "book_file = \"ShadowSlave_Ch1.txt\"\n",
    "\n",
    "with open(book_file, \"r\") as fh:\n",
    "    book_lines = fh.readlines()\n",
    "\n",
    "book_str = \"\\n\".join(book_lines)\n",
    "\n",
    "snippet = book_str[:1000]"
   ]
  },
  {
   "cell_type": "markdown",
   "metadata": {},
   "source": [
    "# Step 3\n",
    "\n",
    "Define system message, and create chat completion for gpt-4.\n",
    "\n",
    "System message instructs the model to segment up the given snippet into a script like string with special delimiters."
   ]
  },
  {
   "cell_type": "code",
   "execution_count": 5,
   "metadata": {},
   "outputs": [],
   "source": [
    "sys_msg1 = \"\"\"You are a text classification expert. \n",
    "Given a section of text from a book extract the character / narrator dialogue section.\n",
    "All text should be perfectly preserved without anything changed, only classifying who says what.\n",
    "For example the input: \\\"Walking the dog Janice shouted \\'\\Here Boy!'. Soon after a black labrador ran through the open field\\\"\n",
    "Provides the output in the following format marking the speaker with *!*SPEAKER*!*:\n",
    "*!*Narrator*!* \"Walking the dog Jance shouted\"\n",
    "*!*Janice!*!* \"Here Boy!\"\n",
    "*!*Narrator*!* \"Soon after a black labrador ran through the open field\"\n",
    "\"\"\"\n",
    "\n",
    "completion = client.chat.completions.create(\n",
    "    model=\"gpt-4\",\n",
    "    messages=[\n",
    "        {\"role\": \"system\",\"content\": sys_msg1},\n",
    "        {\"role\": \"user\"  ,\"content\": snippet},\n",
    "    ]\n",
    ")"
   ]
  },
  {
   "cell_type": "markdown",
   "metadata": {},
   "source": [
    "# Step 4\n",
    "\n",
    "Format the returned completion for easier use.\n",
    "\n",
    "Generate characters array (The unique set of characters found via system message 1)."
   ]
  },
  {
   "cell_type": "code",
   "execution_count": 6,
   "metadata": {},
   "outputs": [],
   "source": [
    "script = completion.choices[0].message.content.split(\"*!*\")\n",
    "while \"\" in script:\n",
    "    script.remove(\"\")\n",
    "\n",
    "source = None\n",
    "is_voice_source = True\n",
    "formatted_script = []\n",
    "characters = []\n",
    "for section in script:\n",
    "    if is_voice_source:\n",
    "        source = section.strip()\n",
    "        characters.append(source)\n",
    "        is_voice_source = False\n",
    "    else:\n",
    "        formatted_script.append((source, section.strip()))\n",
    "        is_voice_source = True\n",
    "\n",
    "characters = list(set(characters))"
   ]
  },
  {
   "cell_type": "markdown",
   "metadata": {},
   "source": [
    "Here we within the given snippet two voices or characters were found, one of the is the narrator and the other is named Sunny."
   ]
  },
  {
   "cell_type": "code",
   "execution_count": 26,
   "metadata": {},
   "outputs": [
    {
     "data": {
      "text/plain": [
       "['Sunny', 'Narrator']"
      ]
     },
     "execution_count": 26,
     "metadata": {},
     "output_type": "execute_result"
    }
   ],
   "source": [
    "characters"
   ]
  },
  {
   "cell_type": "markdown",
   "metadata": {},
   "source": [
    "Using the formatted chat completion we can see the sequence of text we now feed into the text-to-voice model."
   ]
  },
  {
   "cell_type": "code",
   "execution_count": 23,
   "metadata": {},
   "outputs": [
    {
     "name": "stdout",
     "output_type": "stream",
     "text": [
      "'\"A frail-looking young man with pale skin and dark circles under his eyes was sitting on a rusty bench across from the police station. He was cradling a cup of coffee in his hands — not the cheap synthetic type slum rats like him had access to, but the real deal. This cup of plant-based coffee, usually available only to higher rank citizens, had cost most of his savings. But on this particular day, Sunny decided to pamper himself. After all, his life was coming to an end. Enjoying the warmth of the luxurious drink, he raised the cup and savored the aroma. Then, tentatively, he took a small sip… and immediately grimaced.\"'\n",
      "'\"Ah! So bitter!\"'\n",
      "'\"Giving the cup of coffee an intense look, Sunny sighed and forced himself to drink some more. Bitter or not, he was determined to get his money\\'s worth — taste buds be damned.\"'\n",
      "'\"I should have bought a piece of real meat instead. Who knew actual coffee is so disgusting? Well. It\\'s going to keep me awake, at least.\"'\n"
     ]
    }
   ],
   "source": [
    "for part in formatted_script:\n",
    "    speaker, text = part\n",
    "    print(repr(text))"
   ]
  },
  {
   "cell_type": "markdown",
   "metadata": {},
   "source": [
    "# Step 5\n",
    "\n",
    "Now we determing from the defined VOICES mapping which character/narrator should be assigned which voice.\n",
    "\n",
    "The system message indicates to the model that given a string of the script generated in step 3 match a character to a fitting voice."
   ]
  },
  {
   "cell_type": "code",
   "execution_count": 7,
   "metadata": {},
   "outputs": [],
   "source": [
    "voices_desc = \"\"\n",
    "for voice in VOICES:\n",
    "    voices_desc += f\"{voice}: {VOICES[voice]}\\n\"\n",
    "\n",
    "script_str = \"\"\n",
    "for part in formatted_script:\n",
    "    speaker, text = part\n",
    "    script_str += f\"{speaker}: {text}\"\n",
    "\n",
    "sys_msg2 = f\"\"\"You are the director of an audio book and have to choose who gets to voice each character.\n",
    "Choose from the following list of voices {list(VOICES)} and the related descriptions.\n",
    "{voices_desc}\n",
    "\n",
    "Given the above list of voices, and the script assign voices to each character and reply in json where the key is the characters name, and the value is voice name.\"\"\"\n",
    "\n",
    "completion1 = client.chat.completions.create(\n",
    "    model=\"gpt-4\",\n",
    "    messages=[\n",
    "        {\"role\": \"system\",\"content\": sys_msg2},\n",
    "        {\"role\": \"user\"  ,\"content\": script_str},\n",
    "    ]\n",
    ")"
   ]
  },
  {
   "cell_type": "markdown",
   "metadata": {},
   "source": [
    "For consistency sake the voice_legend is manually assigned within this step, however using json.loads we can use the returned completion1 message to fill this dictioanry."
   ]
  },
  {
   "cell_type": "code",
   "execution_count": 27,
   "metadata": {},
   "outputs": [],
   "source": [
    "voices_legend = {\n",
    "    \"Sunny\": \"alloy\",\n",
    "    \"Narrator\": \"onyx\"\n",
    "}"
   ]
  },
  {
   "cell_type": "markdown",
   "metadata": {},
   "source": [
    "# Step 6\n",
    "\n",
    "Given each segment of the script prompt for chat completion.\n",
    "\n",
    "Each line of the script has a text section, a speaker (who is saying the current line) and a related mapping from voices_legend to speaker.\n",
    "\n",
    "Save the resulting file to 0 indexed mp4 file."
   ]
  },
  {
   "cell_type": "code",
   "execution_count": 28,
   "metadata": {},
   "outputs": [
    {
     "name": "stdout",
     "output_type": "stream",
     "text": [
      "Narrator says: \"A frail-looking young man with pale skin and dark circles under his eyes was sitting on a rusty bench across from the police station. He was cradling a cup of coffee in his hands — not the cheap synthetic type slum rats like him had access to, but the real deal. This cup of plant-based coffee, usually available only to higher rank citizens, had cost most of his savings. But on this particular day, Sunny decided to pamper himself. After all, his life was coming to an end. Enjoying the warmth of the luxurious drink, he raised the cup and savored the aroma. Then, tentatively, he took a small sip… and immediately grimaced.\"\n",
      "Sunny says: \"Ah! So bitter!\"\n",
      "Narrator says: \"Giving the cup of coffee an intense look, Sunny sighed and forced himself to drink some more. Bitter or not, he was determined to get his money's worth — taste buds be damned.\"\n",
      "Sunny says: \"I should have bought a piece of real meat instead. Who knew actual coffee is so disgusting? Well. It's going to keep me awake, at least.\"\n"
     ]
    }
   ],
   "source": [
    "# voices_legend = json.loads(completion1.choices[0].message.content)\n",
    "\n",
    "for i, part in enumerate(formatted_script):\n",
    "    speaker, text = part\n",
    "\n",
    "    speech_file_path = Path(\"./results\").parent / f\"_{i}_.mp4\"\n",
    "\n",
    "    response = client.audio.speech.create(\n",
    "        model=\"tts-1\",\n",
    "        voice=voices_legend[speaker],\n",
    "        input=text\n",
    "    )\n",
    "    print(f\"{speaker} says: {text}\")\n",
    "\n",
    "    response.stream_to_file(speech_file_path)\n"
   ]
  },
  {
   "cell_type": "code",
   "execution_count": 29,
   "metadata": {},
   "outputs": [
    {
     "name": "stdout",
     "output_type": "stream",
     "text": [
      "_0_.mp3\n",
      "_1_.mp3\n",
      "_2_.mp3\n",
      "_3_.mp3\n",
      "Done at 4 because '4'\n"
     ]
    }
   ],
   "source": [
    "results = os.listdir(\"./results\")\n",
    "targets = {}\n",
    "for file in results:\n",
    "    segments = file.split(\"_\")\n",
    "\n",
    "    while \"\" in segments:\n",
    "        segments.remove(\"\")\n",
    "\n",
    "    targets[segments[0]] = file\n",
    "    \n",
    "for i in range(0, 100):\n",
    "\n",
    "    try:\n",
    "        print(targets[str(i)])\n",
    "\n",
    "        playsound(f\"results/{targets[str(i)]}\")\n",
    "    \n",
    "    except Exception as E:\n",
    "        print(f\"Done at {i} because {E}\")\n",
    "        break\n",
    "    "
   ]
  }
 ],
 "metadata": {
  "kernelspec": {
   "display_name": "Python 3",
   "language": "python",
   "name": "python3"
  },
  "language_info": {
   "codemirror_mode": {
    "name": "ipython",
    "version": 3
   },
   "file_extension": ".py",
   "mimetype": "text/x-python",
   "name": "python",
   "nbconvert_exporter": "python",
   "pygments_lexer": "ipython3",
   "version": "3.8.10"
  }
 },
 "nbformat": 4,
 "nbformat_minor": 2
}
